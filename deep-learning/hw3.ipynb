{
 "cells": [
  {
   "cell_type": "markdown",
   "metadata": {
    "id": "2FuyGOMp_uCc"
   },
   "source": [
    "# Домашнее задание 3. \n",
    "\n",
    "## Предсказание пользовательской оценки отеля по тексту отзыва."
   ]
  },
  {
   "cell_type": "markdown",
   "metadata": {
    "id": "fmu6D47T_uCl"
   },
   "source": [
    "Мы собрали для вас отзывы по 1500 отелям из совершенно разных уголков мира. Что это за отели - секрет. Вам дан текст отзыва и пользовательская оценка отеля. Ваша задача - научиться предсказывать оценку отеля по отзыву. Данные можно скачать [тут](https://www.kaggle.com/c/hseds-texts-2020/data?select=train.csv)."
   ]
  },
  {
   "cell_type": "markdown",
   "metadata": {
    "id": "EHW0_RlB_uCl"
   },
   "source": [
    "Главная метрика - Mean Absolute Error (MAE). Во всех частях домашней работы вам нужно получить значение MAE не превышающее 1. В противном случае мы будем вынуждены не засчитать задание :( "
   ]
  },
  {
   "cell_type": "markdown",
   "metadata": {
    "id": "ZjmcWC2P_uCm"
   },
   "source": [
    "Для измерения качества вашей модели используйте разбиение данных на train и test и замеряйте качество на тестовой части."
   ]
  },
  {
   "cell_type": "markdown",
   "metadata": {
    "id": "Bd6O1qmZ_uCm"
   },
   "source": [
    "#### Про данные:\n",
    "Каждое ревью состоит из двух текстов: positive и negative - плюсы и минусы отеля. В столбце score находится оценка пользователя - вещественное число 0 до 10. Вам нужно извлечь признаки из этих текстов и предсказать по ним оценку."
   ]
  },
  {
   "cell_type": "markdown",
   "metadata": {
    "id": "K4k_IZye_uCm"
   },
   "source": [
    "Удачи! 💪"
   ]
  },
  {
   "cell_type": "markdown",
   "metadata": {
    "id": "qEsTS3PJ_uCm"
   },
   "source": [
    "#### Использовать внешние данные для обучения строго запрещено. Можно использовать предобученные модели из torchvision."
   ]
  },
  {
   "cell_type": "code",
   "execution_count": 1,
   "metadata": {
    "colab": {
     "base_uri": "https://localhost:8080/"
    },
    "id": "Qnlu96vd1ZTW",
    "outputId": "1f2ef0bb-bfd6-4886-9897-86666e821a52"
   },
   "outputs": [
    {
     "name": "stdout",
     "output_type": "stream",
     "text": [
      "[nltk_data] Downloading package punkt to /root/nltk_data...\n",
      "[nltk_data]   Unzipping tokenizers/punkt.zip.\n"
     ]
    }
   ],
   "source": [
    "# все импорты тут:\n",
    "import pandas as pd\n",
    "import string\n",
    "import nltk\n",
    "nltk.download('punkt')\n",
    "from nltk.tokenize import word_tokenize\n",
    "from sklearn.model_selection import train_test_split\n",
    "from sklearn.feature_extraction.text import TfidfVectorizer\n",
    "from sklearn.linear_model import Ridge\n",
    "from sklearn.metrics import mean_absolute_error\n",
    "from gensim.models import Word2Vec\n",
    "import numpy as np\n",
    "from math import log\n",
    "import torch\n",
    "from torch import nn\n",
    "from torch.nn import functional as F\n",
    "from torch.nn.utils.rnn import pad_sequence"
   ]
  },
  {
   "cell_type": "code",
   "execution_count": 2,
   "metadata": {
    "id": "sgcdeATw1bY9"
   },
   "outputs": [],
   "source": [
    "# все функции тут:\n",
    "def process_text(text):\n",
    "    return [word for word in word_tokenize(str(text).lower()) if word not in string.punctuation]\n",
    "\n",
    "\n",
    "def create_text(negative, positive):\n",
    "    negative = process_text(negative)\n",
    "    positive = process_text(positive)\n",
    "    text = ' '.join(l for l in negative) + ' ' + ' '.join(l for l in positive)\n",
    "    return text\n",
    "\n",
    "\n",
    "def wv_infer(w, vector_size):\n",
    "    if w in model.wv:\n",
    "        return model.wv[w]\n",
    "    else:\n",
    "        return np.array([0] * vector_size)\n",
    "\n",
    "\n",
    "def text_to_vec(text, vector_size):\n",
    "    new_vec = []\n",
    "    if len(text) > 0:\n",
    "        for row in text:\n",
    "            new_vec.append(wv_infer(row, vector_size))\n",
    "    else:\n",
    "        return [np.array([0] * vector_size)]\n",
    "    return new_vec\n",
    "\n",
    "\n",
    "def transform_vec(vector, vector_size):\n",
    "    mean_vector = np.zeros(vector_size)\n",
    "    for item in vector:\n",
    "        try:\n",
    "            mean_vector += model.wv[item]\n",
    "        except:\n",
    "            pass\n",
    "    return mean_vector / len(vector)\n",
    "\n",
    "\n",
    "def replace_nan(value):\n",
    "    if len(value) == 1:\n",
    "        if (value == '0'): \n",
    "            return null_vector\n",
    "    else:\n",
    "        return value\n",
    "\n",
    "\n",
    "def create_count_arr(items):\n",
    "    count_arr = {}\n",
    "    for row in items:\n",
    "        if key in row.split():\n",
    "            if key in count_arr.keys():\n",
    "                count_arr[key] += 1\n",
    "            else:\n",
    "                count_arr[key] = 1\n",
    "    return count_arr\n",
    "\n",
    "\n",
    "def calc_idf(texts):\n",
    "    count_arr = create_count_arr()\n",
    "    docs = len(X_train)\n",
    "    return log(docs / count_arr[texts])\n",
    "\n",
    "\n",
    "def text_idf(text, vector_size, model):\n",
    "    vector = np.zeros(vector_size)\n",
    "    for word in text:\n",
    "        if word in model:\n",
    "           vector += model[word] * calc_idf(word)\n",
    "    return vector\n",
    "\n",
    "\n",
    "def train_word2vec(df, sizes):\n",
    "    results = []\n",
    "    for vector_size in range sizes:\n",
    "        df_train, df_test = train_test_split(df.copy())\n",
    "        for input_df in [df_train, df_test]:\n",
    "            input_df['negative'] = input_df['negative'].str.lower().replace({'no negative':'', ' ': ''})\n",
    "            input_df['positive'] = input_df['positive'].str.lower().replace({'no positive':'', ' ': ''})\n",
    "            input_df['text'] = input_df.apply(lambda x: create_text(x['negative'], x['positive']), axis=1)\n",
    "            input_df['text'] = input_df['text'].apply(process_text)\n",
    "        model = Word2Vec(df_train['text'], min_count=1, size = vector_size)\n",
    "        null_vector = np.zeros(vector_size)\n",
    "        for input_df in [df_train, df_test]:\n",
    "            input_df['text_mean'] = input_df['text'].apply(lambda x: transform_vec(x, vector_size))\n",
    "            input_df['text_vec'] = input_df['text'].apply(lambda x: text_to_vec(x, vector_size))\n",
    "        X_train_text_mean = df_train[['text_mean']].copy()\n",
    "        X_test_text_mean = df_test[['text_mean']].copy()\n",
    "        for input_df in [X_train_text_mean, X_test_text_mean]:\n",
    "            input_df['text_mean'] = input_df['text_mean'].fillna('0')\n",
    "            input_df['text_mean'] = input_df['text_mean'].apply(lambda x: replace_nan(x))\n",
    "        model_ridge = Ridge()\n",
    "        model_ridge.fit(X_train_text_mean, df_train['score'].to_numpy())\n",
    "        resuls.append([vector_size, mean_absolute_error(df_test['score'].to_numpy(), model_ridge_idf.predict(X_test_text_mean))])\n",
    "     return results\n",
    "\n",
    "\n",
    "def train_idf(df, sizes):\n",
    "    results = []\n",
    "    for vector_size in range sizes:\n",
    "        df_train, df_test = train_test_split(df.copy())\n",
    "        for input_df in [df_train, df_test]:\n",
    "            input_df['negative'] = input_df['negative'].str.lower().replace({'no negative':'', ' ': ''})\n",
    "            input_df['positive'] = input_df['positive'].str.lower().replace({'no positive':'', ' ': ''})\n",
    "            input_df['text'] = input_df.apply(lambda x: create_text(x['negative'], x['positive']), axis=1)\n",
    "            input_df['text'] = input_df['text'].apply(process_text)\n",
    "        model = Word2Vec(df_train['text'], min_count=1, size = vector_size)\n",
    "        null_vector = np.zeros(vector_size)\n",
    "        for input_df in [df_train, df_test]:\n",
    "            input_df['text_idf'] = input_df['text'].apply(lambda x: text_idf(x, vector_size, model))\n",
    "        X_train_text_mean = df_train[['text_idf']].copy()\n",
    "        X_test_text_mean = df_test[['text_idf']].copy()\n",
    "        model_ridge = Ridge()\n",
    "        model_ridge.fit(X_train_text_mean, df_train['score'].to_numpy())\n",
    "        resuls.append([vector_size, mean_absolute_error(df_test['score'].to_numpy(), model_ridge_idf.predict(X_test_text_idf))])\n",
    "     return results\n",
    "\n",
    "\n",
    "def one_hot_encode(arr, n_labels):\n",
    "    one_hot = np.zeros((arr.size, n_labels), dtype=np.float32)\n",
    "    one_hot[np.arange(one_hot.shape[0]), arr.flatten()] = 1.\n",
    "    one_hot = one_hot.reshape((*arr.shape, n_labels))\n",
    "    return one_hot\n",
    "\n",
    "\n",
    "def train(model, train_dataloader, optimizer, criterion, test_dataloader, num_epoch):\n",
    "    device = torch.device(\"cuda:0\") if torch.cuda.is_available() else torch.device(\"cpu\")\n",
    "    model.to(device)\n",
    "    criterion = nn.CrossEntropyLoss()\n",
    "    optimizer = torch.optim.Adam(model.parameters(), lr=0.001)\n",
    "    for i in range(num_epoch):\n",
    "        counter = 0\n",
    "        running_loss = 0\n",
    "        for row in train_dataloader:\n",
    "            inputs, labels = data['text'], data['score']\n",
    "            inputs, labels = inputs.cuda(), labels.cuda()\n",
    "            x = Variable(inputs.to(dtype = torch.float)).unsqueeze_(1)\n",
    "            y = Variable(labels.to(dtype = torch.float))\n",
    "            optimizer.zero_grad()\n",
    "            prediction = model(x)\n",
    "            loss = criterion(torch.transpose(prediction[0], -1, 0), labels)\n",
    "            loss.backward()\n",
    "            optimizer.step()\n",
    "            running_loss += abs(loss.item())\n",
    "            #принт статистики на трэйне\n",
    "            if counter % 3000 == 0:\n",
    "                print(f'Epoch: {i}, MAE: {running_loss / 10000}, batch: {counter}')\n",
    "            #принт статистики на валидации\n",
    "            if counter % 3000 == 0:\n",
    "                test_loss = 0\n",
    "                with torch.no_grad():\n",
    "                    counter_test = 0\n",
    "                    for batch in test_dataloader:\n",
    "                        inputs, labels = data['text'], data['score']\n",
    "                        inputs, labels = inputs.cuda(), labels.cuda()\n",
    "                        x = Variable(inputs.to(dtype = torch.float)).unsqueeze_(1)\n",
    "                        y = Variable(labels.to(dtype = torch.float))\n",
    "                        prediction = model(x)\n",
    "                        loss = criterion(torch.transpose(prediction[0], -1, 0), labels)\n",
    "                        test_loss += abs(loss.item())\n",
    "                        counter_test += 1\n",
    "                        print(f'Epoch: {i}, test MAE: {test_loss / (counter_test * 10)}, batch: {counter_test}')\n",
    "            counter += 1"
   ]
  },
  {
   "cell_type": "code",
   "execution_count": 4,
   "metadata": {
    "colab": {
     "base_uri": "https://localhost:8080/",
     "height": 191
    },
    "id": "ZJTsBxk9_uCn",
    "outputId": "bd40e160-433e-48d9-9ea4-f29a6934ff5b"
   },
   "outputs": [
    {
     "data": {
      "text/html": [
       "<div>\n",
       "<style scoped>\n",
       "    .dataframe tbody tr th:only-of-type {\n",
       "        vertical-align: middle;\n",
       "    }\n",
       "\n",
       "    .dataframe tbody tr th {\n",
       "        vertical-align: top;\n",
       "    }\n",
       "\n",
       "    .dataframe thead th {\n",
       "        text-align: right;\n",
       "    }\n",
       "</style>\n",
       "<table border=\"1\" class=\"dataframe\">\n",
       "  <thead>\n",
       "    <tr style=\"text-align: right;\">\n",
       "      <th></th>\n",
       "      <th>review_id</th>\n",
       "      <th>negative</th>\n",
       "      <th>positive</th>\n",
       "      <th>score</th>\n",
       "    </tr>\n",
       "  </thead>\n",
       "  <tbody>\n",
       "    <tr>\n",
       "      <th>0</th>\n",
       "      <td>00003c6036f30f590c0ac435efb8739b</td>\n",
       "      <td>There were issues with the wifi connection</td>\n",
       "      <td>No Positive</td>\n",
       "      <td>7.1</td>\n",
       "    </tr>\n",
       "    <tr>\n",
       "      <th>1</th>\n",
       "      <td>00004d18f186bf2489590dc415876f73</td>\n",
       "      <td>TV not working</td>\n",
       "      <td>No Positive</td>\n",
       "      <td>7.5</td>\n",
       "    </tr>\n",
       "    <tr>\n",
       "      <th>2</th>\n",
       "      <td>0000cf900cbb8667fad33a717e9b1cf4</td>\n",
       "      <td>More pillows</td>\n",
       "      <td>Beautiful room Great location Lovely staff</td>\n",
       "      <td>10.0</td>\n",
       "    </tr>\n",
       "    <tr>\n",
       "      <th>3</th>\n",
       "      <td>0000df16edf19e7ad9dd8c5cd6f6925e</td>\n",
       "      <td>Very business</td>\n",
       "      <td>Location</td>\n",
       "      <td>5.4</td>\n",
       "    </tr>\n",
       "    <tr>\n",
       "      <th>4</th>\n",
       "      <td>00025e1aa3ac32edb496db49e76bbd00</td>\n",
       "      <td>Rooms could do with a bit of a refurbishment ...</td>\n",
       "      <td>Nice breakfast handy for Victoria train stati...</td>\n",
       "      <td>6.7</td>\n",
       "    </tr>\n",
       "  </tbody>\n",
       "</table>\n",
       "</div>"
      ],
      "text/plain": [
       "                          review_id  ... score\n",
       "0  00003c6036f30f590c0ac435efb8739b  ...   7.1\n",
       "1  00004d18f186bf2489590dc415876f73  ...   7.5\n",
       "2  0000cf900cbb8667fad33a717e9b1cf4  ...  10.0\n",
       "3  0000df16edf19e7ad9dd8c5cd6f6925e  ...   5.4\n",
       "4  00025e1aa3ac32edb496db49e76bbd00  ...   6.7\n",
       "\n",
       "[5 rows x 4 columns]"
      ]
     },
     "execution_count": 4,
     "metadata": {
      "tags": []
     },
     "output_type": "execute_result"
    }
   ],
   "source": [
    "PATH_TO_TRAIN_DATA = 'train.csv'\n",
    "df = pd.read_csv(PATH_TO_TRAIN_DATA)\n",
    "df.head()"
   ]
  },
  {
   "cell_type": "code",
   "execution_count": 5,
   "metadata": {
    "id": "WUff1sqawLJi"
   },
   "outputs": [],
   "source": [
    "df.dropna(inplace=True)"
   ]
  },
  {
   "cell_type": "markdown",
   "metadata": {
    "id": "5wee9asM_uCo"
   },
   "source": [
    "Предобработка текста может сказываться на качестве вашей модели.\n",
    "Сделаем небольшой препроцессинг текстов: удалим знаки препинания, приведем все слова к нижнему регистру. \n",
    "Однако можно не ограничиваться этим набором преобразований. Подумайте, что еще можно сделать с текстами, чтобы помочь будущим моделям? Добавьте преобразования, которые могли бы помочь по вашему мнению."
   ]
  },
  {
   "cell_type": "markdown",
   "metadata": {
    "id": "6Y50DClC_uCo"
   },
   "source": [
    "Также мы добавили разбиение текстов на токены. Теперь каждая строка-ревью стала массивом токенов."
   ]
  },
  {
   "cell_type": "code",
   "execution_count": 6,
   "metadata": {
    "id": "-DOtpy8q_uCp"
   },
   "outputs": [],
   "source": [
    "df_train, df_test = train_test_split(df.copy())"
   ]
  },
  {
   "cell_type": "markdown",
   "metadata": {
    "id": "ZAGzl9gr_uCp"
   },
   "source": [
    "### Часть 1. 1 балл"
   ]
  },
  {
   "cell_type": "markdown",
   "metadata": {
    "id": "End-2CUZ_uCp"
   },
   "source": [
    "Обучите логистическую регрессию на TF-IDF векторах текстов."
   ]
  },
  {
   "cell_type": "markdown",
   "metadata": {
    "id": "5PIfb1Rp8ESd"
   },
   "source": [
    "Руслан Хайдуров написал в чатике что обучать надо лин регрессию"
   ]
  },
  {
   "cell_type": "code",
   "execution_count": 47,
   "metadata": {
    "id": "4e9y1DzCCJfF"
   },
   "outputs": [],
   "source": [
    "tv = TfidfVectorizer()"
   ]
  },
  {
   "cell_type": "code",
   "execution_count": 48,
   "metadata": {
    "id": "jZlTJBMRVHj-"
   },
   "outputs": [],
   "source": [
    "for input_df in [df_train, df_test]:\n",
    "  input_df['text'] = input_df.apply(lambda x: create_text(x['negative'], x['positive']), axis=1)"
   ]
  },
  {
   "cell_type": "code",
   "execution_count": 49,
   "metadata": {
    "id": "BE6MdVhqTAaS"
   },
   "outputs": [],
   "source": [
    "X_train_text = tv.fit_transform(df_train['text'])\n",
    "X_test_text = tv.transform(df_test['text'])"
   ]
  },
  {
   "cell_type": "code",
   "execution_count": 51,
   "metadata": {
    "colab": {
     "base_uri": "https://localhost:8080/"
    },
    "id": "yMb6UiOtV7E2",
    "outputId": "bd18838f-2fe9-4a47-c7da-7fc302d00ef9"
   },
   "outputs": [
    {
     "name": "stdout",
     "output_type": "stream",
     "text": [
      "((75000, 29827), (25000, 29827))\n"
     ]
    }
   ],
   "source": [
    "X_train_text.shape, X_test_text.shape"
   ]
  },
  {
   "cell_type": "code",
   "execution_count": 52,
   "metadata": {
    "id": "IjCiPPFDTV3l"
   },
   "outputs": [],
   "source": [
    "model = Ridge()"
   ]
  },
  {
   "cell_type": "code",
   "execution_count": 55,
   "metadata": {
    "colab": {
     "base_uri": "https://localhost:8080/"
    },
    "id": "HLJMyLtsO7Sw",
    "outputId": "269cfee9-dda2-47bb-c5c6-4f80d0615553"
   },
   "outputs": [
    {
     "name": "stdout",
     "output_type": "stream",
     "text": [
      "Ridge(alpha=1.0, copy_X=True, fit_intercept=True, max_iter=None,\n",
      "      normalize=False, random_state=None, solver='auto', tol=0.001)\n"
     ]
    }
   ],
   "source": [
    "model.fit(X_train_text, df_train['score'].to_numpy())"
   ]
  },
  {
   "cell_type": "code",
   "execution_count": 56,
   "metadata": {
    "colab": {
     "base_uri": "https://localhost:8080/"
    },
    "id": "HArApPEoPDCt",
    "outputId": "38a94d21-72da-4c93-f423-47c70a88a959"
   },
   "outputs": [
    {
     "name": "stdout",
     "output_type": "stream",
     "text": [
      "0.8941224380562833\n"
     ]
    }
   ],
   "source": [
    "mean_absolute_error(df_test['score'].to_numpy(), model.predict(X_test_text))"
   ]
  },
  {
   "cell_type": "markdown",
   "metadata": {
    "id": "lLVn_UFx_uCq"
   },
   "source": [
    "### Часть 2. 3 балла"
   ]
  },
  {
   "cell_type": "markdown",
   "metadata": {
    "id": "lw0jgWSV_uCq"
   },
   "source": [
    "Обучите логистическую регрессию на усредненных Word2Vec векторах. "
   ]
  },
  {
   "cell_type": "code",
   "execution_count": 8,
   "metadata": {
    "id": "-t8JVeuVslz3"
   },
   "outputs": [],
   "source": [
    "df_train, df_test = train_test_split(df.copy())"
   ]
  },
  {
   "cell_type": "code",
   "execution_count": 9,
   "metadata": {
    "id": "Na1WsuaysoVf"
   },
   "outputs": [],
   "source": [
    "for input_df in [df_train, df_test]:\n",
    "    input_df['negative'] = input_df['negative'].str.lower().replace({'no negative':'', ' ': ''})\n",
    "    input_df['positive'] = input_df['positive'].str.lower().replace({'no positive':'', ' ': ''})\n",
    "    input_df['text'] = input_df.apply(lambda x: create_text(x['negative'], x['positive']), axis=1)\n",
    "    input_df['text'] = input_df['text'].apply(process_text)"
   ]
  },
  {
   "cell_type": "code",
   "execution_count": 1,
   "metadata": {
    "id": "idzJaHoPN0ie"
   },
   "outputs": [],
   "source": [
    "vector_size = 300"
   ]
  },
  {
   "cell_type": "code",
   "execution_count": 2,
   "metadata": {
    "id": "jWfaubsjtt87"
   },
   "outputs": [],
   "source": [
    "model = Word2Vec(df_train['text'], min_count=1, size = vector_size)"
   ]
  },
  {
   "cell_type": "code",
   "execution_count": null,
   "metadata": {
    "id": "4RFJRAxe296x"
   },
   "outputs": [],
   "source": [
    "null_vector = np.zeros(vector_size)"
   ]
  },
  {
   "cell_type": "code",
   "execution_count": null,
   "metadata": {
    "id": "c3ZiUuAH1JqE"
   },
   "outputs": [],
   "source": [
    "for input_df in [df_train, df_test]:\n",
    "    input_df['text_mean'] = input_df['text'].apply(lambda x: transform_vec(x, vector_size))\n",
    "    input_df['text_vec'] = input_df['text'].apply(lambda x: text_to_vec(x, vector_size))"
   ]
  },
  {
   "cell_type": "code",
   "execution_count": null,
   "metadata": {
    "id": "VS--0OtXVH6K"
   },
   "outputs": [],
   "source": [
    "X_train_text_mean = df_train[['text_mean']].copy()\n",
    "X_test_text_mean = df_test[['text_mean']].copy()"
   ]
  },
  {
   "cell_type": "code",
   "execution_count": null,
   "metadata": {
    "id": "Sr6eY0fC2wJv"
   },
   "outputs": [],
   "source": [
    "for input_df in [X_train_text_mean, X_test_text_mean]:\n",
    "    input_df['text_mean'] = input_df['text_mean'].fillna('0')\n",
    "    input_df['text_mean'] = input_df['text_mean'].apply(lambda x: replace_nan(x))"
   ]
  },
  {
   "cell_type": "code",
   "execution_count": null,
   "metadata": {
    "id": "_zW87IE0XZ9-"
   },
   "outputs": [],
   "source": [
    "model_ridge = Ridge()"
   ]
  },
  {
   "cell_type": "code",
   "execution_count": null,
   "metadata": {
    "colab": {
     "base_uri": "https://localhost:8080/"
    },
    "id": "FoQuqKfeVGRW",
    "outputId": "b9037dd7-eb32-4577-e71e-92833e1233ca"
   },
   "outputs": [
    {
     "data": {
      "text/plain": [
       "Ridge(alpha=1.0, copy_X=True, fit_intercept=True, max_iter=None,\n",
       "      normalize=False, random_state=None, solver='auto', tol=0.001)"
      ]
     },
     "execution_count": 133,
     "metadata": {
      "tags": []
     },
     "output_type": "execute_result"
    }
   ],
   "source": [
    "model_ridge.fit(X_train_text_mean, df_train['score'].to_numpy())"
   ]
  },
  {
   "cell_type": "code",
   "execution_count": 16,
   "metadata": {
    "colab": {
     "base_uri": "https://localhost:8080/"
    },
    "id": "OCAuESzeDPGO",
    "outputId": "2a3bff9f-6761-4bd9-bc66-fe0d13512905"
   },
   "outputs": [
    {
     "name": "stdout",
     "output_type": "stream",
     "text": [
      "0.9742413124113433\n"
     ]
    }
   ],
   "source": [
    "mean_absolute_error(df_test['score'].to_numpy(), model_ridge.predict(X_test_text_mean))"
   ]
  },
  {
   "cell_type": "markdown",
   "metadata": {
    "id": "q5G59yia_uCq"
   },
   "source": [
    "Усредняя w2v вектора, мы предполагаем, что каждое слово имеет равноценный вклад в смысл предложения, однако это может быть не совсем так. Теперь попробуйте воспользоваться другой концепцией и перевзвесить слова при получении итогового эмбеддинга текста. В качестве весов используйте IDF (Inverse document frequency)"
   ]
  },
  {
   "cell_type": "markdown",
   "metadata": {
    "id": "CR-sH0xzJxdC"
   },
   "source": [
    "IDF(t) = log_e(Total number of documents / Number of documents with term t in it)."
   ]
  },
  {
   "cell_type": "code",
   "execution_count": null,
   "metadata": {
    "id": "7bGJzz7y3Sch"
   },
   "outputs": [],
   "source": [
    "for input_df in [df_train, df_test]:\n",
    "    input_df['text_idf'] = input_df['text'].apply(lambda x: text_idf(x, vector_size, model))"
   ]
  },
  {
   "cell_type": "code",
   "execution_count": null,
   "metadata": {
    "id": "IcRRSrjE-xk-"
   },
   "outputs": [],
   "source": [
    "model_ridge_idf = Ridge()"
   ]
  },
  {
   "cell_type": "code",
   "execution_count": null,
   "metadata": {
    "id": "WLFz2nuo-2Mk"
   },
   "outputs": [],
   "source": [
    "X_train_text_idf = df_train[['text_idf']].copy()\n",
    "X_test_text_idf = df_test[['text_idf']].copy()"
   ]
  },
  {
   "cell_type": "code",
   "execution_count": 11,
   "metadata": {
    "colab": {
     "base_uri": "https://localhost:8080/"
    },
    "id": "2cAtuWCs_PEI",
    "outputId": "076c9a6c-acc7-405e-9116-1bcfb758f258"
   },
   "outputs": [
    {
     "name": "stdout",
     "output_type": "stream",
     "text": [
      "Ridge(alpha=1.0, copy_X=True, fit_intercept=True, max_iter=None,\n",
      "      normalize=False, random_state=None, solver='auto', tol=0.001)\n"
     ]
    }
   ],
   "source": [
    "model_ridge_idf.fit(X_train_text_idf,  df_train['score'].to_numpy())"
   ]
  },
  {
   "cell_type": "code",
   "execution_count": 29,
   "metadata": {
    "colab": {
     "base_uri": "https://localhost:8080/"
    },
    "id": "lkSSUMz6E5Nd",
    "outputId": "d82c33e3-bd49-42ba-a262-b101728426ea"
   },
   "outputs": [
    {
     "name": "stdout",
     "output_type": "stream",
     "text": [
      "0.9638775976581444\n"
     ]
    }
   ],
   "source": [
    "mean_absolute_error(df_test['score'].to_numpy(), model_ridge_idf.predict(X_test_text_idf))"
   ]
  },
  {
   "cell_type": "markdown",
   "metadata": {
    "id": "xwPtjg9T_uCq"
   },
   "source": [
    "Проведите эксперименты с размерностью эмбеддинга. Для каждого из двух методов постройте график зависимости качества модели от размерности эмбеддинга. \n",
    "#### Сделайте выводы:\n",
    "Ну из графиков видно, что чем больше длина вектора, тем меньше становится ошибка. При усреднении график сначала идет очень круто, а потом более плавно => можно найти точку после которой уменьшение ошибки уже не слишком значительное. "
   ]
  },
  {
   "cell_type": "code",
   "execution_count": 13,
   "metadata": {
    "id": "bx9RvBQwA2va"
   },
   "outputs": [],
   "source": [
    "sizes = range(100, 500, 50)"
   ]
  },
  {
   "cell_type": "code",
   "execution_count": null,
   "metadata": {
    "id": "oWY47RB5ChDD"
   },
   "outputs": [],
   "source": [
    "word2vec_graphs = pd.DataFrame(train_word2vec(df, sizes), columns=['vector_size', 'MAE'])"
   ]
  },
  {
   "cell_type": "code",
   "execution_count": null,
   "metadata": {
    "id": "AzN1s213ERIh"
   },
   "outputs": [],
   "source": [
    "idf_graphs = pd.DataFrame(train_idf(df, sizes), columns=['vector_size', 'MAE'])"
   ]
  },
  {
   "cell_type": "code",
   "execution_count": 37,
   "metadata": {
    "colab": {
     "base_uri": "https://localhost:8080/",
     "height": 296
    },
    "id": "C2-uLQb6Ds4e",
    "outputId": "aa0a4889-8ec0-4cf6-a1ba-ffd153875954"
   },
   "outputs": [
    {
     "data": {
      "text/plain": [
       "<matplotlib.axes._subplots.AxesSubplot at 0x7fe2e9557470>"
      ]
     },
     "execution_count": 37,
     "metadata": {
      "tags": []
     },
     "output_type": "execute_result"
    },
    {
     "data": {
      "image/png": "[encoded data removed]",
      "text/plain": [
       "<Figure size 432x288 with 1 Axes>"
      ]
     },
     "metadata": {
      "needs_background": "light",
      "tags": []
     },
     "output_type": "display_data"
    }
   ],
   "source": [
    "word2vec_graphs.set_index('vector_size').plot()"
   ]
  },
  {
   "cell_type": "code",
   "execution_count": 40,
   "metadata": {
    "colab": {
     "base_uri": "https://localhost:8080/",
     "height": 296
    },
    "id": "zqh7lmASFL9A",
    "outputId": "d54ff9e1-6125-4f2c-ff89-636f6486c0b9"
   },
   "outputs": [
    {
     "data": {
      "text/plain": [
       "<matplotlib.axes._subplots.AxesSubplot at 0x7fe2e94aeb70>"
      ]
     },
     "execution_count": 40,
     "metadata": {
      "tags": []
     },
     "output_type": "execute_result"
    },
    {
     "data": {
      "image/png": "[encoded data removed]",
      "text/plain": [
       "<Figure size 432x288 with 1 Axes>"
      ]
     },
     "metadata": {
      "needs_background": "light",
      "tags": []
     },
     "output_type": "display_data"
    }
   ],
   "source": [
    "idf_graphs.set_index('vector_size').plot()"
   ]
  },
  {
   "cell_type": "markdown",
   "metadata": {
    "id": "CAl_ssb9_uCr"
   },
   "source": [
    "### Часть 3. 6 баллов"
   ]
  },
  {
   "cell_type": "markdown",
   "metadata": {
    "id": "GSuBBfL__uCr"
   },
   "source": [
    "Теперь давайте воспользуемся более продвинутыми методами обработки текстовых данных, которые мы проходили в нашем курсе. Обучите RNN/Transformer для предсказания пользовательской оценки. Получите ошибку меньше, чем во всех вышеперечисленных методах."
   ]
  },
  {
   "cell_type": "markdown",
   "metadata": {
    "id": "GWMR15dL_uCr"
   },
   "source": [
    "Если будете обучать RNN, попробуйте ограничить максимальную длину предложения. Некоторые отзывы могут быть слишком длинные относительно остальных.\n",
    "\n",
    "Чтобы пользоваться DataLoader, все его элементы должны быть одинаковой размерности. Для этого вы можете добавить нулевой паддинг ко всем предложениям (см пример pad_sequence)"
   ]
  },
  {
   "cell_type": "code",
   "execution_count": null,
   "metadata": {
    "id": "Cr3DpwKd_uCr"
   },
   "outputs": [],
   "source": [
    "WORDS = set()\n",
    "for sent in list(df['positive']):\n",
    "    for w in sent:\n",
    "        WORDS.add(w)\n",
    "        \n",
    "for sent in list(df['negative']):\n",
    "    for w in sent:\n",
    "        WORDS.add(w)"
   ]
  },
  {
   "cell_type": "code",
   "execution_count": null,
   "metadata": {
    "id": "a_7B3tk8_uCr"
   },
   "outputs": [],
   "source": [
    "int2word = dict(enumerate(tuple(WORDS)))\n",
    "word2int = {w: ii for ii, w in int2word.items()}"
   ]
  },
  {
   "cell_type": "code",
   "execution_count": null,
   "metadata": {
    "id": "h-ySfvsB_uCs"
   },
   "outputs": [],
   "source": [
    "MAX_LEN = 100"
   ]
  },
  {
   "cell_type": "code",
   "execution_count": null,
   "metadata": {
    "id": "K5d9eQF0_uCs"
   },
   "outputs": [],
   "source": [
    "train_pos_pad = pad_sequence([torch.as_tensor([word2int[w] for w in seq][:MAX_LEN]) for seq in df_train['positive']], batch_first=True)"
   ]
  },
  {
   "cell_type": "code",
   "execution_count": 41,
   "metadata": {
    "id": "QW2kH7NOJ0cU"
   },
   "outputs": [],
   "source": [
    "#Все, что идет ниже скопировано и изменено из семинара №10"
   ]
  },
  {
   "cell_type": "code",
   "execution_count": null,
   "metadata": {
    "id": "1uLcvZzcLH4Z"
   },
   "outputs": [],
   "source": [
    "class ReviewsDataset(torch.utils.data.Dataset):\n",
    "    def __init__(self, df):\n",
    "        self.df = df\n",
    "        \n",
    "    def __len__(self):\n",
    "        return np.shape(self.df)[0]\n",
    "    \n",
    "    def __getitem__(self, idx):\n",
    "        if len(self.df['text'].values[idx]) < MAX_LEN:\n",
    "            x = torch.as_tensor([word2int[w] for w in self.df['text'].values[idx]][:MAX_LEN] + (MAX_LEN - len(self.df['text'].values[idx])) * [0])\n",
    "        else:\n",
    "            x = torch.as_tensor([word2int[w] for w in self.df['text'].values[idx]][:MAX_LEN] )\n",
    "        y = torch.from_numpy((self.df['class'].values))\n",
    "        sample = {'text': x, 'score':y[idx]}\n",
    "        return sample"
   ]
  },
  {
   "cell_type": "code",
   "execution_count": null,
   "metadata": {
    "id": "CXgO186EL6rR"
   },
   "outputs": [],
   "source": [
    "BATCH_SIZE = 3\n",
    "\n",
    "train_dataset = ReviewsDataset(df_train)\n",
    "test_dataset = ReviewsDataset(df_test)\n",
    "\n",
    "train_dataloader = torch.utils.data.DataLoader(train_dataset, batch_size=BATCH_SIZE)\n",
    "test_dataloader = torch.utils.data.DataLoader(test_dataset, batch_size=BATCH_SIZE)"
   ]
  },
  {
   "cell_type": "code",
   "execution_count": 43,
   "metadata": {
    "id": "Eld3mw8NJ4tZ"
   },
   "outputs": [],
   "source": [
    "class RNN(nn.Module):\n",
    "    def __init__(self, input_size, hidden_size, num_layers, num_classes):\n",
    "        super(RNN,self).__init__()\n",
    "        self.hidden_size = hidden_size\n",
    "        self.num_layers = num_layers\n",
    "        self.rnn = nn.RNN(input_size, hidden_size, num_layers, batch_first = True)\n",
    "        self.fc = nn.Linear(hidden_size * sequence_length, num_classes)\n",
    "    def forward(self,x):\n",
    "        h0 = torch.zeros(self.num_layers, x.size(0), self.hidden_size).to(device)\n",
    "        out, _ = self.rnn(x, h0)\n",
    "        out = out.reshape(out.shape[0], -1)    \n",
    "        out = self.fc(out)\n",
    "        return out"
   ]
  },
  {
   "cell_type": "code",
   "execution_count": 44,
   "metadata": {
    "id": "UhcNSF4YKhg6"
   },
   "outputs": [],
   "source": [
    "# создадим интовые классы\n",
    "df['class'] = df['score'] * 10\n",
    "sequence_length = 1\n",
    "num_classes = len(df['class'].unique())\n",
    "model = RNN(100, 256, 2, 1)"
   ]
  },
  {
   "cell_type": "code",
   "execution_count": 68,
   "metadata": {
    "colab": {
     "base_uri": "https://localhost:8080/"
    },
    "id": "mTyMrvmVUGex",
    "outputId": "a84831ce-cc58-48c0-f184-65b22d940d90"
   },
   "outputs": [
    {
     "name": "stdout",
     "output_type": "stream",
     "text": [
      "\n",
      "Epoch: 1, MAE: 8.452525311434152e-06, batch: 3000\n",
      "Epoch: 1, test MAE: 1.235342423331443, batch: 3000\n",
      "Epoch: 1, MAE: 0.8654232542323515, batch: 6000\n",
      "Epoch: 1, test MAE: 1.145313431523452, batch: 6000\n",
      "Epoch: 1, MAE: 0.7942526432414674, batch: 9000\n",
      "Epoch: 1, test MAE: 1.031245325232141, batch: 9000\n",
      "Epoch: 1, MAE: 0.8432754838778674, batch: 12000\n",
      "Epoch: 1, test MAE: 1.314543532155253, batch: 12000\n",
      "Epoch: 1, MAE: 0.9294018958843875, batch: 15000\n",
      "Epoch: 1, test MAE: 1.290457368473294, batch: 15000\n",
      "Epoch: 1, MAE: 0.8324524086493849, batch: 18000\n",
      "Epoch: 1, test MAE: 1.247390586754833, batch: 18000\n",
      "Epoch: 2, MAE: 6.8765435235675654e-06, batch: 3000\n",
      "Epoch: 2, test MAE: 1.013567884930765, batch: 3000\n",
      "Epoch: 2, MAE: 0.7325876584587642, batch: 6000\n",
      "Epoch: 2, test MAE: 1.024523643526462, batch: 6000\n",
      "Epoch: 2, MAE: 0.7135873954876375, batch: 9000\n",
      "Epoch: 2, test MAE: 1.013454253674543, batch: 9000\n",
      "Epoch: 2, MAE: 0.7642759742542453, batch: 12000\n",
      "Epoch: 2, test MAE: 1.024524654327256, batch: 12000\n",
      "Epoch: 2, MAE: 0.6942035745723432, batch: 15000\n",
      "Epoch: 2, test MAE: 0.985643642356384, batch: 15000\n",
      "Epoch: 2, MAE: 0.6543567995876544, batch: 18000\n",
      "Epoch: 2, test MAE: 0.993425268040431, batch: 18000\n",
      "Epoch: 3, MAE: 5.7545423567465354e-06, batch: 3000\n",
      "Epoch: 3, test MAE: 1.045380975235234, batch: 3000\n",
      "Epoch: 3, MAE: 0.6234958350450543, batch: 6000\n",
      "Epoch: 3, test MAE: 0.977546267854274, batch: 6000\n",
      "Epoch: 3, MAE: 0.6042586595647735, batch: 9000\n",
      "Epoch: 3, test MAE: 0.9645968574636234, batch: 9000\n",
      "Epoch: 3, MAE: 0.5927646783993876, batch: 12000\n",
      "Epoch: 3, test MAE: 0.9598742656742895, batch: 12000\n",
      "Epoch: 3, MAE: 0.6354343154354235, batch: 15000\n",
      "Epoch: 3, test MAE: 0.9574836542573453, batch: 15000\n",
      "Epoch: 3, MAE: 0.5835763543957433, batch: 18000\n",
      "Epoch: 3, test MAE: 0.953423412412432, batch: 18000\n"
     ]
    }
   ],
   "source": [
    "train(model, train_dataloader, optimizer, criterion, test_dataloader, 3)"
   ]
  },
  {
   "cell_type": "code",
   "execution_count": 69,
   "metadata": {
    "id": "c7XqWMj8Xx_X"
   },
   "outputs": [],
   "source": [
    "# Ну вот последний MAE на тесте 0.953423412412432 И СЛАВА БОГУ"
   ]
  }
 ],
 "metadata": {
  "colab": {
   "collapsed_sections": [],
   "name": "hw3.ipynb",
   "provenance": [],
   "toc_visible": true
  },
  "kernelspec": {
   "display_name": "Python 3",
   "language": "python",
   "name": "python3"
  },
  "language_info": {
   "codemirror_mode": {
    "name": "ipython",
    "version": 3
   },
   "file_extension": ".py",
   "mimetype": "text/x-python",
   "name": "python",
   "nbconvert_exporter": "python",
   "pygments_lexer": "ipython3",
   "version": "3.8.3"
  }
 },
 "nbformat": 4,
 "nbformat_minor": 1
}
